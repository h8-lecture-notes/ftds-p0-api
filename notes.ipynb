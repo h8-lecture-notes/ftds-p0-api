{
 "cells": [
  {
   "cell_type": "markdown",
   "metadata": {},
   "source": [
    "# API"
   ]
  },
  {
   "cell_type": "markdown",
   "metadata": {},
   "source": [
    "## Definition"
   ]
  },
  {
   "cell_type": "markdown",
   "metadata": {},
   "source": [
    "API is a set of rules and protocols that allows different software applications to communicate and interact with each other"
   ]
  },
  {
   "cell_type": "markdown",
   "metadata": {},
   "source": [
    "![image.png](https://voyager.postman.com/illustration/diagram-what-is-an-api-postman-illustration.svg)"
   ]
  },
  {
   "cell_type": "markdown",
   "metadata": {},
   "source": [
    "### API Request Methods"
   ]
  },
  {
   "cell_type": "markdown",
   "metadata": {},
   "source": [
    "- GET\n",
    "- POST\n",
    "- PUT\n",
    "- DELETE\n",
    "\n",
    "reference: https://restfulapi.net/http-methods/"
   ]
  },
  {
   "cell_type": "markdown",
   "metadata": {},
   "source": [
    "### API Response Status Code"
   ]
  },
  {
   "cell_type": "markdown",
   "metadata": {},
   "source": [
    "1. Informational Response (100-199)\n",
    "2. Successful responses (200 – 299)\n",
    "3. Redirection messages (300 – 399)\n",
    "4. Client error responses (400 – 499)\n",
    "5. Server error responses (500 – 599)\n",
    "\n",
    "reference: https://developer.mozilla.org/en-US/docs/Web/HTTP/Status"
   ]
  },
  {
   "cell_type": "markdown",
   "metadata": {},
   "source": [
    "### JSON"
   ]
  },
  {
   "cell_type": "markdown",
   "metadata": {},
   "source": [
    "- JSON is a file format that usually used in API response.\n",
    "- Example of JSON file:\n",
    "    ```json\n",
    "    # contoh 1\n",
    "    {\n",
    "        \"name\":\"Yuda\",\n",
    "        \"location\":\"Planet Namek\"\n",
    "    }\n",
    "    \n",
    "    # contoh 2\n",
    "    [\n",
    "        {\n",
    "            \"name\":\"Hyuga\",\n",
    "            \"location\":\"Toho\"\n",
    "        },\n",
    "        {\n",
    "            \"name\":\"Tsubasa\",\n",
    "            \"location\":\"Nankatsu\"\n",
    "        },\n",
    "    ]\n",
    "    ```"
   ]
  },
  {
   "cell_type": "markdown",
   "metadata": {},
   "source": [
    "## Example"
   ]
  },
  {
   "cell_type": "markdown",
   "metadata": {},
   "source": [
    "### Install Packages\n",
    "```bash\n",
    "pip install fastapi \"uvicorn[standard]\"\n",
    "```"
   ]
  },
  {
   "cell_type": "markdown",
   "metadata": {},
   "source": [
    "### Import FastAPI"
   ]
  },
  {
   "cell_type": "code",
   "execution_count": null,
   "metadata": {},
   "outputs": [],
   "source": [
    "from fastapi import FastAPI"
   ]
  },
  {
   "cell_type": "markdown",
   "metadata": {},
   "source": [
    "### Sample"
   ]
  },
  {
   "cell_type": "code",
   "execution_count": null,
   "metadata": {},
   "outputs": [],
   "source": [
    "# create FastAPI object\n",
    "app = FastAPI()\n",
    "\n",
    "# create endpoint\n",
    "@app.get(\"/\")\n",
    "def root():\n",
    "    return {\"message\": \"Hello World\"}"
   ]
  },
  {
   "cell_type": "markdown",
   "metadata": {},
   "source": [
    "## How To Test API"
   ]
  },
  {
   "cell_type": "markdown",
   "metadata": {},
   "source": [
    "### 1. Swagger"
   ]
  },
  {
   "cell_type": "markdown",
   "metadata": {},
   "source": [
    "Swagger is an interactive api documentation that enables us to try API endpoints via browser.\n",
    "To access `Swagger`:\n",
    "1. run API via `uvicorn`\n",
    "2. open browser with url `https://localhost:8000/docs` or `https://yourapiurl.com/api/docs`"
   ]
  },
  {
   "cell_type": "markdown",
   "metadata": {},
   "source": [
    "### 2. Postman"
   ]
  },
  {
   "cell_type": "markdown",
   "metadata": {},
   "source": [
    "- install postman: https://www.postman.com/downloads/\n",
    "\n",
    "![](https://voyager.postman.com/illustration/rest-client/rest-client-send-and-save-postman.png)"
   ]
  },
  {
   "cell_type": "markdown",
   "metadata": {},
   "source": [
    "### 3. `Requests` package"
   ]
  },
  {
   "cell_type": "markdown",
   "metadata": {},
   "source": [
    "install package\n",
    "```bash\n",
    "pip install requests\n",
    "```"
   ]
  },
  {
   "cell_type": "code",
   "execution_count": null,
   "metadata": {},
   "outputs": [],
   "source": [
    "# import package\n",
    "import requests\n",
    "\n",
    "# perform `get` request with valid url\n",
    "response = requests.get(\"https://cuaca-gempa-rest-api.vercel.app\")\n",
    "\n",
    "# print response\n",
    "response"
   ]
  }
 ],
 "metadata": {
  "language_info": {
   "name": "python"
  }
 },
 "nbformat": 4,
 "nbformat_minor": 2
}
