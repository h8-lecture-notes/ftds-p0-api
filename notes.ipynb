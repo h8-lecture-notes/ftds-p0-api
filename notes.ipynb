{
 "cells": [
  {
   "cell_type": "markdown",
   "metadata": {},
   "source": [
    "# API"
   ]
  },
  {
   "cell_type": "markdown",
   "metadata": {},
   "source": [
    "## Definition"
   ]
  },
  {
   "cell_type": "markdown",
   "metadata": {},
   "source": [
    "- One of the popular types of API is called REST API which defines a set of functions/methods (GET, PUT, POST, DELETE) that clients use to access server data.\n",
    "  - GET -> to retrieve record(s)\n",
    "  - POST -> to create a record\n",
    "  - PUT/PATCH -> to update a record\n",
    "  - DELETE -> to delete a record\n",
    "  ![image](https://course-net.com/blog/wp-content/uploads/elementor/thumbs/1_9xsOnmz5hC4IVOLixlvMLg-qi1n6psegw61opodnnc8sxnvbejdyidcb3sp2l6rgo.webp)\n",
    "  reference: https://restfulapi.net/http-methods/\n",
    "- Whenever we access website using browser, it sends an **http request** to the website's server via API. In return, the server then sends an **http response** to the browser via API. This response consist of **data** (usually in the form of JSON format) and **status code**.\n",
    "- The status code inside a response consists of standardized number where each code can have different meaning. These codes are as follow:\n",
    "  1. Informational Response (100-199)\n",
    "  2. Successful responses (200 – 299)\n",
    "  3. Redirection messages (300 – 399)\n",
    "  4. Client error responses (400 – 499)\n",
    "  5. Server error responses (500 – 599)\n",
    "  \n",
    "  reference: https://developer.mozilla.org/en-US/docs/Web/HTTP/Status\n",
    "\n",
    "### JSON\n",
    "- JSON is a file format that usually used in API response.\n",
    "- Example of JSON file:\n",
    "    ```json\n",
    "    # contoh-1\n",
    "    {\n",
    "        \"name\":\"Yuda\",\n",
    "        \"location\":\"Planet Namek\"\n",
    "    }\n",
    "    \n",
    "    # contoh-2\n",
    "    [\n",
    "        {\n",
    "            \"name\":\"Hyuga\",\n",
    "            \"location\":\"Toho\"\n",
    "        },\n",
    "        {\n",
    "            \"name\":\"Tsubasa\",\n",
    "            \"location\":\"Nankatsu\"\n",
    "        },\n",
    "    ]\n",
    "    ```"
   ]
  },
  {
   "cell_type": "markdown",
   "metadata": {},
   "source": [
    "## Sample Code"
   ]
  },
  {
   "cell_type": "code",
   "execution_count": null,
   "metadata": {},
   "outputs": [],
   "source": [
    "# Import packages\n",
    "from fastapi import FastAPI\n",
    "\n",
    "# create FastAPI object\n",
    "app = FastAPI()\n",
    "\n",
    "# create endpoint\n",
    "@app.get(\"/\")\n",
    "def root():\n",
    "    return {\"message\": \"Hello World\"}"
   ]
  },
  {
   "cell_type": "markdown",
   "metadata": {},
   "source": [
    "## Testing API"
   ]
  },
  {
   "cell_type": "markdown",
   "metadata": {},
   "source": [
    "### 1. Swagger"
   ]
  },
  {
   "cell_type": "markdown",
   "metadata": {},
   "source": [
    "- Swagger is an interactive api documentation that enables us to try API endpoints via browser.\n",
    "- To open swagger, go to `/docs` endpoint from you `base_url`."
   ]
  },
  {
   "cell_type": "markdown",
   "metadata": {},
   "source": [
    "### 2. Postman"
   ]
  },
  {
   "cell_type": "markdown",
   "metadata": {},
   "source": [
    "- install postman: https://www.postman.com/downloads/\n",
    "\n",
    "![](https://voyager.postman.com/illustration/rest-client/rest-client-send-and-save-postman.png)"
   ]
  }
 ],
 "metadata": {
  "language_info": {
   "name": "python"
  }
 },
 "nbformat": 4,
 "nbformat_minor": 2
}
